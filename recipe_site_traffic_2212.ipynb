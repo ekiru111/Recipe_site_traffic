{
 "cells": [
  {
   "cell_type": "code",
   "execution_count": 67,
   "id": "7e2f2d3d",
   "metadata": {},
   "outputs": [],
   "source": [
    "# Libraries\n",
    "import pandas as pd"
   ]
  },
  {
   "cell_type": "code",
   "execution_count": 68,
   "id": "918853e4",
   "metadata": {},
   "outputs": [],
   "source": [
    "# Importing recipes data\n",
    "df = pd.read_csv('D:/Local Disk/Projects/Data camp/recipe_site_traffic_2212.csv')"
   ]
  },
  {
   "cell_type": "markdown",
   "id": "b5a6d5cf",
   "metadata": {},
   "source": [
    "# Data Preparation"
   ]
  },
  {
   "cell_type": "code",
   "execution_count": 69,
   "id": "36982e86",
   "metadata": {},
   "outputs": [
    {
     "name": "stdout",
     "output_type": "stream",
     "text": [
      "<class 'pandas.core.frame.DataFrame'>\n",
      "RangeIndex: 947 entries, 0 to 946\n",
      "Data columns (total 8 columns):\n",
      " #   Column        Non-Null Count  Dtype  \n",
      "---  ------        --------------  -----  \n",
      " 0   recipe        947 non-null    int64  \n",
      " 1   calories      895 non-null    float64\n",
      " 2   carbohydrate  895 non-null    float64\n",
      " 3   sugar         895 non-null    float64\n",
      " 4   protein       895 non-null    float64\n",
      " 5   category      947 non-null    object \n",
      " 6   servings      947 non-null    object \n",
      " 7   high_traffic  574 non-null    object \n",
      "dtypes: float64(4), int64(1), object(3)\n",
      "memory usage: 59.3+ KB\n"
     ]
    }
   ],
   "source": [
    "# structure of the dataset\n",
    "df.info()"
   ]
  },
  {
   "cell_type": "markdown",
   "id": "3ee84ce5",
   "metadata": {},
   "source": [
    "The dataset had 947 observations and 8 variables.\n",
    "\n",
    "There were 5 variables that had some form of missin values, that is; Calories, Carbohydrates, Sugar, Protein, and high_traffic"
   ]
  },
  {
   "cell_type": "markdown",
   "id": "c2b4f41e",
   "metadata": {},
   "source": [
    "## Counting the missing values"
   ]
  },
  {
   "cell_type": "code",
   "execution_count": 70,
   "id": "43d3cb9a",
   "metadata": {},
   "outputs": [
    {
     "name": "stdout",
     "output_type": "stream",
     "text": [
      "recipe            0\n",
      "calories         52\n",
      "carbohydrate     52\n",
      "sugar            52\n",
      "protein          52\n",
      "category          0\n",
      "servings          0\n",
      "high_traffic    373\n",
      "dtype: int64\n"
     ]
    }
   ],
   "source": [
    "# Counting the missing values\n",
    "missing_count = df.isnull().sum()\n",
    "print(missing_count)"
   ]
  },
  {
   "cell_type": "code",
   "execution_count": 71,
   "id": "f02074ef",
   "metadata": {},
   "outputs": [
    {
     "name": "stdout",
     "output_type": "stream",
     "text": [
      "recipe           0.000000\n",
      "calories         5.491024\n",
      "carbohydrate     5.491024\n",
      "sugar            5.491024\n",
      "protein          5.491024\n",
      "category         0.000000\n",
      "servings         0.000000\n",
      "high_traffic    39.387540\n",
      "dtype: float64\n"
     ]
    }
   ],
   "source": [
    "# Converting to percentages\n",
    "missing_percent = (missing_count / len(df)) * 100\n",
    "print(missing_percent)"
   ]
  },
  {
   "cell_type": "code",
   "execution_count": 72,
   "id": "603813a2",
   "metadata": {},
   "outputs": [
    {
     "name": "stdout",
     "output_type": "stream",
     "text": [
      "              count    percent\n",
      "recipe            0   0.000000\n",
      "calories         52   5.491024\n",
      "carbohydrate     52   5.491024\n",
      "sugar            52   5.491024\n",
      "protein          52   5.491024\n",
      "category          0   0.000000\n",
      "servings          0   0.000000\n",
      "high_traffic    373  39.387540\n"
     ]
    }
   ],
   "source": [
    "# Organizing into a table\n",
    "missing_data = pd.DataFrame({'count': missing_count, 'percent': missing_percent})\n",
    "print(missing_data)"
   ]
  },
  {
   "cell_type": "markdown",
   "id": "82cfb8df",
   "metadata": {},
   "source": [
    "Since all the variable have missing_value percentage below 50%, I am going to impute them to handle the missingness"
   ]
  },
  {
   "cell_type": "markdown",
   "id": "56896e18",
   "metadata": {},
   "source": [
    "### Handling the missing variables"
   ]
  },
  {
   "cell_type": "markdown",
   "id": "44862642",
   "metadata": {},
   "source": [
    "### 1. High_traffic"
   ]
  },
  {
   "cell_type": "code",
   "execution_count": 73,
   "id": "d064c3f7",
   "metadata": {},
   "outputs": [
    {
     "data": {
      "text/plain": [
       "array(['High', nan], dtype=object)"
      ]
     },
     "execution_count": 73,
     "metadata": {},
     "output_type": "execute_result"
    }
   ],
   "source": [
    "# Identifying categories\n",
    "df[\"high_traffic\"].unique()"
   ]
  },
  {
   "cell_type": "code",
   "execution_count": 74,
   "id": "e25e96e3",
   "metadata": {},
   "outputs": [
    {
     "name": "stderr",
     "output_type": "stream",
     "text": [
      "C:\\Users\\ekiru\\AppData\\Local\\Temp\\ipykernel_17188\\2330145325.py:2: FutureWarning: A value is trying to be set on a copy of a DataFrame or Series through chained assignment using an inplace method.\n",
      "The behavior will change in pandas 3.0. This inplace method will never work because the intermediate object on which we are setting values always behaves as a copy.\n",
      "\n",
      "For example, when doing 'df[col].method(value, inplace=True)', try using 'df.method({col: value}, inplace=True)' or df[col] = df[col].method(value) instead, to perform the operation inplace on the original object.\n",
      "\n",
      "\n",
      "  df[\"high_traffic\"].fillna(\"Low\", inplace=True)\n"
     ]
    },
    {
     "data": {
      "text/plain": [
       "array(['High', 'Low'], dtype=object)"
      ]
     },
     "execution_count": 74,
     "metadata": {},
     "output_type": "execute_result"
    }
   ],
   "source": [
    "# Replace the \"nan\"\n",
    "df[\"high_traffic\"].fillna(\"Low\", inplace=True)\n",
    "\n",
    "# Confirming the changes\n",
    "df[\"high_traffic\"].unique()"
   ]
  },
  {
   "cell_type": "markdown",
   "id": "81c1d995",
   "metadata": {},
   "source": [
    "### 2. Calories"
   ]
  },
  {
   "cell_type": "code",
   "execution_count": 75,
   "id": "3ecc9be5",
   "metadata": {},
   "outputs": [
    {
     "data": {
      "application/vnd.microsoft.datawrangler.viewer.v0+json": {
       "columns": [
        {
         "name": "index",
         "rawType": "object",
         "type": "string"
        },
        {
         "name": "calories",
         "rawType": "float64",
         "type": "float"
        }
       ],
       "ref": "ffca0b9d-88ba-427b-8aa8-6ffdbbca40f0",
       "rows": [
        [
         "count",
         "895.0"
        ],
        [
         "mean",
         "435.9391955307263"
        ],
        [
         "std",
         "453.02099717749525"
        ],
        [
         "min",
         "0.14"
        ],
        [
         "25%",
         "110.43"
        ],
        [
         "50%",
         "288.55"
        ],
        [
         "75%",
         "597.65"
        ],
        [
         "max",
         "3633.16"
        ]
       ],
       "shape": {
        "columns": 1,
        "rows": 8
       }
      },
      "text/plain": [
       "count     895.000000\n",
       "mean      435.939196\n",
       "std       453.020997\n",
       "min         0.140000\n",
       "25%       110.430000\n",
       "50%       288.550000\n",
       "75%       597.650000\n",
       "max      3633.160000\n",
       "Name: calories, dtype: float64"
      ]
     },
     "execution_count": 75,
     "metadata": {},
     "output_type": "execute_result"
    }
   ],
   "source": [
    "# Understanding distribution\n",
    "df[\"calories\"].describe()"
   ]
  },
  {
   "cell_type": "code",
   "execution_count": 76,
   "id": "568bf05c",
   "metadata": {},
   "outputs": [
    {
     "data": {
      "image/png": "[encoded data removed]",
      "text/plain": [
       "<Figure size 640x480 with 1 Axes>"
      ]
     },
     "metadata": {},
     "output_type": "display_data"
    }
   ],
   "source": [
    "import matplotlib.pyplot as plt\n",
    "\n",
    "# Plotting the distribution\n",
    "plt.hist(df[\"calories\"], bins=10, density=False, edgecolor='black')\n",
    "\n",
    "plt.show()"
   ]
  },
  {
   "cell_type": "markdown",
   "id": "8fb386bd",
   "metadata": {},
   "source": [
    "Since the \"calories\" data is skewed, the median will be used to impute"
   ]
  },
  {
   "cell_type": "code",
   "execution_count": 77,
   "id": "dd272528",
   "metadata": {},
   "outputs": [
    {
     "name": "stderr",
     "output_type": "stream",
     "text": [
      "C:\\Users\\ekiru\\AppData\\Local\\Temp\\ipykernel_17188\\2383131409.py:3: FutureWarning: A value is trying to be set on a copy of a DataFrame or Series through chained assignment using an inplace method.\n",
      "The behavior will change in pandas 3.0. This inplace method will never work because the intermediate object on which we are setting values always behaves as a copy.\n",
      "\n",
      "For example, when doing 'df[col].method(value, inplace=True)', try using 'df.method({col: value}, inplace=True)' or df[col] = df[col].method(value) instead, to perform the operation inplace on the original object.\n",
      "\n",
      "\n",
      "  df[\"calories\"].fillna(median_value, inplace=True)\n"
     ]
    },
    {
     "data": {
      "application/vnd.microsoft.datawrangler.viewer.v0+json": {
       "columns": [
        {
         "name": "index",
         "rawType": "object",
         "type": "string"
        },
        {
         "name": "calories",
         "rawType": "float64",
         "type": "float"
        }
       ],
       "ref": "26229045-4a23-4295-99e9-d8eb0a0b2929",
       "rows": [
        [
         "count",
         "947.0"
        ],
        [
         "mean",
         "427.8460190073918"
        ],
        [
         "std",
         "441.6735557266422"
        ],
        [
         "min",
         "0.14"
        ],
        [
         "25%",
         "114.41"
        ],
        [
         "50%",
         "288.55"
        ],
        [
         "75%",
         "576.225"
        ],
        [
         "max",
         "3633.16"
        ]
       ],
       "shape": {
        "columns": 1,
        "rows": 8
       }
      },
      "text/plain": [
       "count     947.000000\n",
       "mean      427.846019\n",
       "std       441.673556\n",
       "min         0.140000\n",
       "25%       114.410000\n",
       "50%       288.550000\n",
       "75%       576.225000\n",
       "max      3633.160000\n",
       "Name: calories, dtype: float64"
      ]
     },
     "execution_count": 77,
     "metadata": {},
     "output_type": "execute_result"
    }
   ],
   "source": [
    "# Handling the missing values\n",
    "median_value = df[\"calories\"].median()\n",
    "df[\"calories\"].fillna(median_value, inplace=True)\n",
    "\n",
    "# confirming changes\n",
    "df[\"calories\"].describe()"
   ]
  },
  {
   "cell_type": "markdown",
   "id": "bb9bdd75",
   "metadata": {},
   "source": [
    "### 3. Cabohydrates"
   ]
  },
  {
   "cell_type": "code",
   "execution_count": 78,
   "id": "721432df",
   "metadata": {},
   "outputs": [
    {
     "data": {
      "application/vnd.microsoft.datawrangler.viewer.v0+json": {
       "columns": [
        {
         "name": "index",
         "rawType": "object",
         "type": "string"
        },
        {
         "name": "carbohydrate",
         "rawType": "float64",
         "type": "float"
        }
       ],
       "ref": "3c6d7808-2081-4524-a8a4-2a5804be2b79",
       "rows": [
        [
         "count",
         "895.0"
        ],
        [
         "mean",
         "35.06967597765363"
        ],
        [
         "std",
         "43.949031981231236"
        ],
        [
         "min",
         "0.03"
        ],
        [
         "25%",
         "8.375"
        ],
        [
         "50%",
         "21.48"
        ],
        [
         "75%",
         "44.965"
        ],
        [
         "max",
         "530.42"
        ]
       ],
       "shape": {
        "columns": 1,
        "rows": 8
       }
      },
      "text/plain": [
       "count    895.000000\n",
       "mean      35.069676\n",
       "std       43.949032\n",
       "min        0.030000\n",
       "25%        8.375000\n",
       "50%       21.480000\n",
       "75%       44.965000\n",
       "max      530.420000\n",
       "Name: carbohydrate, dtype: float64"
      ]
     },
     "execution_count": 78,
     "metadata": {},
     "output_type": "execute_result"
    }
   ],
   "source": [
    "df[\"carbohydrate\"].describe()"
   ]
  },
  {
   "cell_type": "code",
   "execution_count": 79,
   "id": "6830c1c4",
   "metadata": {},
   "outputs": [
    {
     "data": {
      "image/png": "[encoded data removed]",
      "text/plain": [
       "<Figure size 640x480 with 1 Axes>"
      ]
     },
     "metadata": {},
     "output_type": "display_data"
    }
   ],
   "source": [
    "import matplotlib.pyplot as plt\n",
    "\n",
    "# Plotting the distribution\n",
    "plt.hist(df[\"carbohydrate\"], bins=10, density=False, edgecolor='black')\n",
    "\n",
    "plt.show()"
   ]
  },
  {
   "cell_type": "code",
   "execution_count": 80,
   "id": "246d6be4",
   "metadata": {},
   "outputs": [
    {
     "name": "stderr",
     "output_type": "stream",
     "text": [
      "C:\\Users\\ekiru\\AppData\\Local\\Temp\\ipykernel_17188\\881798201.py:4: FutureWarning: A value is trying to be set on a copy of a DataFrame or Series through chained assignment using an inplace method.\n",
      "The behavior will change in pandas 3.0. This inplace method will never work because the intermediate object on which we are setting values always behaves as a copy.\n",
      "\n",
      "For example, when doing 'df[col].method(value, inplace=True)', try using 'df.method({col: value}, inplace=True)' or df[col] = df[col].method(value) instead, to perform the operation inplace on the original object.\n",
      "\n",
      "\n",
      "  df[\"carbohydrate\"].fillna(median_value, inplace=True)\n"
     ]
    }
   ],
   "source": [
    "# Imputing using the median\n",
    "median_value = df[\"carbohydrate\"].median()\n",
    "\n",
    "df[\"carbohydrate\"].fillna(median_value, inplace=True)"
   ]
  },
  {
   "cell_type": "markdown",
   "id": "8b0198cf",
   "metadata": {},
   "source": [
    "### 4. Sugar"
   ]
  },
  {
   "cell_type": "code",
   "execution_count": 81,
   "id": "9a1c780a",
   "metadata": {},
   "outputs": [
    {
     "data": {
      "application/vnd.microsoft.datawrangler.viewer.v0+json": {
       "columns": [
        {
         "name": "index",
         "rawType": "object",
         "type": "string"
        },
        {
         "name": "sugar",
         "rawType": "float64",
         "type": "float"
        }
       ],
       "ref": "1196cea9-414a-48fb-bde1-ab7629a0e218",
       "rows": [
        [
         "count",
         "895.0"
        ],
        [
         "mean",
         "9.04654748603352"
        ],
        [
         "std",
         "14.679175803587565"
        ],
        [
         "min",
         "0.01"
        ],
        [
         "25%",
         "1.69"
        ],
        [
         "50%",
         "4.55"
        ],
        [
         "75%",
         "9.8"
        ],
        [
         "max",
         "148.75"
        ]
       ],
       "shape": {
        "columns": 1,
        "rows": 8
       }
      },
      "text/plain": [
       "count    895.000000\n",
       "mean       9.046547\n",
       "std       14.679176\n",
       "min        0.010000\n",
       "25%        1.690000\n",
       "50%        4.550000\n",
       "75%        9.800000\n",
       "max      148.750000\n",
       "Name: sugar, dtype: float64"
      ]
     },
     "execution_count": 81,
     "metadata": {},
     "output_type": "execute_result"
    }
   ],
   "source": [
    "df[\"sugar\"].describe()"
   ]
  },
  {
   "cell_type": "code",
   "execution_count": 82,
   "id": "53235d73",
   "metadata": {},
   "outputs": [
    {
     "data": {
      "image/png": "[encoded data removed]",
      "text/plain": [
       "<Figure size 640x480 with 1 Axes>"
      ]
     },
     "metadata": {},
     "output_type": "display_data"
    }
   ],
   "source": [
    "import matplotlib.pyplot as plt\n",
    "\n",
    "# Plotting the distribution\n",
    "plt.hist(df[\"sugar\"], bins=10, density=False, edgecolor='black')\n",
    "\n",
    "plt.show()"
   ]
  },
  {
   "cell_type": "code",
   "execution_count": 83,
   "id": "98d9690f",
   "metadata": {},
   "outputs": [
    {
     "name": "stderr",
     "output_type": "stream",
     "text": [
      "C:\\Users\\ekiru\\AppData\\Local\\Temp\\ipykernel_17188\\3793727808.py:3: FutureWarning: A value is trying to be set on a copy of a DataFrame or Series through chained assignment using an inplace method.\n",
      "The behavior will change in pandas 3.0. This inplace method will never work because the intermediate object on which we are setting values always behaves as a copy.\n",
      "\n",
      "For example, when doing 'df[col].method(value, inplace=True)', try using 'df.method({col: value}, inplace=True)' or df[col] = df[col].method(value) instead, to perform the operation inplace on the original object.\n",
      "\n",
      "\n",
      "  df[\"sugar\"].fillna(median_value, inplace=True)\n"
     ]
    }
   ],
   "source": [
    "# Handling the missing values\n",
    "median_value = df[\"sugar\"].median()\n",
    "df[\"sugar\"].fillna(median_value, inplace=True)"
   ]
  },
  {
   "cell_type": "markdown",
   "id": "f9e8afb7",
   "metadata": {},
   "source": [
    "### 5. Proteins"
   ]
  },
  {
   "cell_type": "code",
   "execution_count": 84,
   "id": "f1680562",
   "metadata": {},
   "outputs": [
    {
     "data": {
      "application/vnd.microsoft.datawrangler.viewer.v0+json": {
       "columns": [
        {
         "name": "index",
         "rawType": "object",
         "type": "string"
        },
        {
         "name": "protein",
         "rawType": "float64",
         "type": "float"
        }
       ],
       "ref": "bca23152-0a27-4c7b-952f-1ba4ceda4f34",
       "rows": [
        [
         "count",
         "895.0"
        ],
        [
         "mean",
         "24.149296089385476"
        ],
        [
         "std",
         "36.369738586505015"
        ],
        [
         "min",
         "0.0"
        ],
        [
         "25%",
         "3.1950000000000003"
        ],
        [
         "50%",
         "10.8"
        ],
        [
         "75%",
         "30.200000000000003"
        ],
        [
         "max",
         "363.36"
        ]
       ],
       "shape": {
        "columns": 1,
        "rows": 8
       }
      },
      "text/plain": [
       "count    895.000000\n",
       "mean      24.149296\n",
       "std       36.369739\n",
       "min        0.000000\n",
       "25%        3.195000\n",
       "50%       10.800000\n",
       "75%       30.200000\n",
       "max      363.360000\n",
       "Name: protein, dtype: float64"
      ]
     },
     "execution_count": 84,
     "metadata": {},
     "output_type": "execute_result"
    }
   ],
   "source": [
    "df[\"protein\"].describe()"
   ]
  },
  {
   "cell_type": "code",
   "execution_count": 85,
   "id": "4e197fef",
   "metadata": {},
   "outputs": [
    {
     "data": {
      "image/png": "[encoded data removed]",
      "text/plain": [
       "<Figure size 640x480 with 1 Axes>"
      ]
     },
     "metadata": {},
     "output_type": "display_data"
    }
   ],
   "source": [
    "import matplotlib.pyplot as plt\n",
    "\n",
    "# Plotting the distribution\n",
    "plt.hist(df[\"protein\"], bins=10, density=False, edgecolor='black')\n",
    "\n",
    "plt.show()"
   ]
  },
  {
   "cell_type": "code",
   "execution_count": 86,
   "id": "940251a0",
   "metadata": {},
   "outputs": [
    {
     "name": "stderr",
     "output_type": "stream",
     "text": [
      "C:\\Users\\ekiru\\AppData\\Local\\Temp\\ipykernel_17188\\1126928724.py:3: FutureWarning: A value is trying to be set on a copy of a DataFrame or Series through chained assignment using an inplace method.\n",
      "The behavior will change in pandas 3.0. This inplace method will never work because the intermediate object on which we are setting values always behaves as a copy.\n",
      "\n",
      "For example, when doing 'df[col].method(value, inplace=True)', try using 'df.method({col: value}, inplace=True)' or df[col] = df[col].method(value) instead, to perform the operation inplace on the original object.\n",
      "\n",
      "\n",
      "  df[\"protein\"].fillna(median_value, inplace=True)\n"
     ]
    }
   ],
   "source": [
    "# Handling the missing values\n",
    "median_value = df[\"protein\"].median()\n",
    "df[\"protein\"].fillna(median_value, inplace=True)"
   ]
  },
  {
   "cell_type": "markdown",
   "id": "6932be62",
   "metadata": {},
   "source": [
    "# Exploratory Data Analysis"
   ]
  },
  {
   "cell_type": "markdown",
   "id": "29d591ab",
   "metadata": {},
   "source": [
    "### High_calories"
   ]
  },
  {
   "cell_type": "code",
   "execution_count": 87,
   "id": "19fb16be",
   "metadata": {},
   "outputs": [
    {
     "data": {
      "image/png": "[encoded data removed]",
      "text/plain": [
       "<Figure size 600x600 with 1 Axes>"
      ]
     },
     "metadata": {},
     "output_type": "display_data"
    }
   ],
   "source": [
    "# Pie chart\n",
    "high_traffic_count = df[\"high_traffic\"].value_counts()\n",
    "\n",
    "plt.figure(figsize=(6,6))\n",
    "plt.pie(\n",
    "    high_traffic_count,\n",
    "    labels=high_traffic_count.index,\n",
    "    autopct='%1.1f%%',\n",
    "    startangle=90,\n",
    "    shadow=True\n",
    ")\n",
    "plt.title(\"High Traffic Distribution\")\n",
    "plt.show()"
   ]
  },
  {
   "cell_type": "markdown",
   "id": "37019384",
   "metadata": {},
   "source": [
    "Most of the sites had high traffic estimating to 60.5%"
   ]
  },
  {
   "cell_type": "markdown",
   "id": "fe0d158a",
   "metadata": {},
   "source": [
    "### Category"
   ]
  },
  {
   "cell_type": "code",
   "execution_count": 88,
   "id": "51737c0b",
   "metadata": {},
   "outputs": [
    {
     "data": {
      "text/plain": [
       "array(['Pork', 'Potato', 'Breakfast', 'Beverages', 'One Dish Meal',\n",
       "       'Chicken Breast', 'Lunch/Snacks', 'Chicken', 'Vegetable', 'Meat',\n",
       "       'Dessert'], dtype=object)"
      ]
     },
     "execution_count": 88,
     "metadata": {},
     "output_type": "execute_result"
    }
   ],
   "source": [
    "df[\"category\"].unique()"
   ]
  },
  {
   "cell_type": "code",
   "execution_count": 89,
   "id": "9f8417eb",
   "metadata": {},
   "outputs": [
    {
     "data": {
      "application/vnd.microsoft.datawrangler.viewer.v0+json": {
       "columns": [
        {
         "name": "category",
         "rawType": "object",
         "type": "string"
        },
        {
         "name": "counts",
         "rawType": "int64",
         "type": "integer"
        },
        {
         "name": "percentage",
         "rawType": "float64",
         "type": "float"
        }
       ],
       "ref": "31462155-13c0-4a33-bf04-7f43c66c136f",
       "rows": [
        [
         "Breakfast",
         "106",
         "11.19324181626188"
        ],
        [
         "Chicken Breast",
         "98",
         "10.348468848996832"
        ],
        [
         "Beverages",
         "92",
         "9.714889123548048"
        ],
        [
         "Lunch/Snacks",
         "89",
         "9.398099260823653"
        ],
        [
         "Potato",
         "88",
         "9.292502639915522"
        ],
        [
         "Pork",
         "84",
         "8.870116156282998"
        ],
        [
         "Vegetable",
         "83",
         "8.764519535374868"
        ],
        [
         "Dessert",
         "83",
         "8.764519535374868"
        ],
        [
         "Meat",
         "79",
         "8.342133051742344"
        ],
        [
         "Chicken",
         "74",
         "7.81414994720169"
        ],
        [
         "One Dish Meal",
         "71",
         "7.497360084477296"
        ]
       ],
       "shape": {
        "columns": 2,
        "rows": 11
       }
      },
      "text/html": [
       "<div>\n",
       "<style scoped>\n",
       "    .dataframe tbody tr th:only-of-type {\n",
       "        vertical-align: middle;\n",
       "    }\n",
       "\n",
       "    .dataframe tbody tr th {\n",
       "        vertical-align: top;\n",
       "    }\n",
       "\n",
       "    .dataframe thead th {\n",
       "        text-align: right;\n",
       "    }\n",
       "</style>\n",
       "<table border=\"1\" class=\"dataframe\">\n",
       "  <thead>\n",
       "    <tr style=\"text-align: right;\">\n",
       "      <th></th>\n",
       "      <th>counts</th>\n",
       "      <th>percentage</th>\n",
       "    </tr>\n",
       "    <tr>\n",
       "      <th>category</th>\n",
       "      <th></th>\n",
       "      <th></th>\n",
       "    </tr>\n",
       "  </thead>\n",
       "  <tbody>\n",
       "    <tr>\n",
       "      <th>Breakfast</th>\n",
       "      <td>106</td>\n",
       "      <td>11.193242</td>\n",
       "    </tr>\n",
       "    <tr>\n",
       "      <th>Chicken Breast</th>\n",
       "      <td>98</td>\n",
       "      <td>10.348469</td>\n",
       "    </tr>\n",
       "    <tr>\n",
       "      <th>Beverages</th>\n",
       "      <td>92</td>\n",
       "      <td>9.714889</td>\n",
       "    </tr>\n",
       "    <tr>\n",
       "      <th>Lunch/Snacks</th>\n",
       "      <td>89</td>\n",
       "      <td>9.398099</td>\n",
       "    </tr>\n",
       "    <tr>\n",
       "      <th>Potato</th>\n",
       "      <td>88</td>\n",
       "      <td>9.292503</td>\n",
       "    </tr>\n",
       "    <tr>\n",
       "      <th>Pork</th>\n",
       "      <td>84</td>\n",
       "      <td>8.870116</td>\n",
       "    </tr>\n",
       "    <tr>\n",
       "      <th>Vegetable</th>\n",
       "      <td>83</td>\n",
       "      <td>8.764520</td>\n",
       "    </tr>\n",
       "    <tr>\n",
       "      <th>Dessert</th>\n",
       "      <td>83</td>\n",
       "      <td>8.764520</td>\n",
       "    </tr>\n",
       "    <tr>\n",
       "      <th>Meat</th>\n",
       "      <td>79</td>\n",
       "      <td>8.342133</td>\n",
       "    </tr>\n",
       "    <tr>\n",
       "      <th>Chicken</th>\n",
       "      <td>74</td>\n",
       "      <td>7.814150</td>\n",
       "    </tr>\n",
       "    <tr>\n",
       "      <th>One Dish Meal</th>\n",
       "      <td>71</td>\n",
       "      <td>7.497360</td>\n",
       "    </tr>\n",
       "  </tbody>\n",
       "</table>\n",
       "</div>"
      ],
      "text/plain": [
       "                counts  percentage\n",
       "category                          \n",
       "Breakfast          106   11.193242\n",
       "Chicken Breast      98   10.348469\n",
       "Beverages           92    9.714889\n",
       "Lunch/Snacks        89    9.398099\n",
       "Potato              88    9.292503\n",
       "Pork                84    8.870116\n",
       "Vegetable           83    8.764520\n",
       "Dessert             83    8.764520\n",
       "Meat                79    8.342133\n",
       "Chicken             74    7.814150\n",
       "One Dish Meal       71    7.497360"
      ]
     },
     "execution_count": 89,
     "metadata": {},
     "output_type": "execute_result"
    }
   ],
   "source": [
    "category_count = df[\"category\"].value_counts()\n",
    "\n",
    "category_percent = df[\"category\"].value_counts(normalize=True) * 100\n",
    "\n",
    "category_summary = pd.DataFrame({\n",
    "    \"counts\":category_count,\n",
    "    \"percentage\":category_percent\n",
    "})\n",
    "category_summary"
   ]
  },
  {
   "cell_type": "code",
   "execution_count": 90,
   "id": "cac4a621",
   "metadata": {},
   "outputs": [
    {
     "data": {
      "image/png": "[encoded data removed]",
      "text/plain": [
       "<Figure size 640x480 with 1 Axes>"
      ]
     },
     "metadata": {},
     "output_type": "display_data"
    }
   ],
   "source": [
    "# Bar plot\n",
    "plt.bar(category_summary.index, category_summary['counts'], color='skyblue', edgecolor='black')\n",
    "\n",
    "# Add labels and title\n",
    "plt.title(\"Category Distribution\", fontsize=14)\n",
    "plt.xlabel(\"Category\", fontsize=12)\n",
    "plt.ylabel(\"Count\", fontsize=12)\n",
    "plt.xticks(rotation=45, ha='right')\n",
    "\n",
    "# Add value labels on top of each bar\n",
    "for i, val in enumerate(category_summary['counts']):\n",
    "    plt.text(i, val + 0.5, str(val), ha='center', va='bottom', fontsize=10)\n",
    "\n",
    "plt.tight_layout()\n",
    "plt.show()"
   ]
  },
  {
   "cell_type": "markdown",
   "id": "8b2e76d6",
   "metadata": {},
   "source": [
    "The breatfast type of recipe was the most common with a the highest measure of 106"
   ]
  },
  {
   "cell_type": "markdown",
   "id": "1a4f7b55",
   "metadata": {},
   "source": [
    "### Scatter plot"
   ]
  },
  {
   "cell_type": "code",
   "execution_count": 91,
   "id": "781e574b",
   "metadata": {},
   "outputs": [
    {
     "data": {
      "image/png": "[encoded data removed]",
      "text/plain": [
       "<Figure size 700x500 with 1 Axes>"
      ]
     },
     "metadata": {},
     "output_type": "display_data"
    }
   ],
   "source": [
    "plt.figure(figsize=(7,5))\n",
    "plt.scatter(df['carbohydrate'], df['protein'], color='teal', alpha=0.6, edgecolor='k')\n",
    "\n",
    "plt.title(\"Scatter Plot: Protein vs Carbohydrate\", fontsize=14)\n",
    "plt.xlabel(\"Carbohydrate\", fontsize=12)\n",
    "plt.ylabel(\"Protein\", fontsize=12)\n",
    "\n",
    "plt.grid(True, linestyle='--', alpha=0.5)\n",
    "plt.show()"
   ]
  },
  {
   "cell_type": "markdown",
   "id": "f26928ba",
   "metadata": {},
   "source": [
    "There was a negative linear relationship between the amount of protein and carbohydrate, that is; if the amount of protein in grams increases the amount of carbohydrates decreases."
   ]
  },
  {
   "cell_type": "markdown",
   "id": "ed9365f4",
   "metadata": {},
   "source": [
    "# Model Development"
   ]
  },
  {
   "cell_type": "code",
   "execution_count": 92,
   "id": "d4c998d7",
   "metadata": {},
   "outputs": [],
   "source": [
    "from sklearn.model_selection import train_test_split\n",
    "from sklearn.linear_model import LogisticRegression\n",
    "from sklearn.metrics import (accuracy_score, precision_recall_fscore_support, roc_auc_score,classification_report, confusion_matrix)\n",
    "from sklearn.pipeline import Pipeline\n",
    "from sklearn.preprocessing import StandardScaler, OneHotEncoder\n",
    "from sklearn.compose import ColumnTransformer\n"
   ]
  },
  {
   "cell_type": "code",
   "execution_count": 93,
   "id": "29105821",
   "metadata": {},
   "outputs": [
    {
     "data": {
      "text/plain": [
       "Index(['recipe', 'calories', 'carbohydrate', 'sugar', 'protein', 'category',\n",
       "       'servings', 'high_traffic'],\n",
       "      dtype='object')"
      ]
     },
     "execution_count": 93,
     "metadata": {},
     "output_type": "execute_result"
    }
   ],
   "source": [
    "df.columns"
   ]
  },
  {
   "cell_type": "code",
   "execution_count": 94,
   "id": "43b5289d",
   "metadata": {},
   "outputs": [],
   "source": [
    "# Generating the X and y dataset\n",
    "X = df[['calories', 'carbohydrate', 'sugar', 'protein', 'category','servings']]\n",
    "\n",
    "y = df['high_traffic'].apply(lambda x: 1 if x == 'High' else 0)\n"
   ]
  },
  {
   "cell_type": "code",
   "execution_count": 95,
   "id": "2ebe795d",
   "metadata": {},
   "outputs": [
    {
     "name": "stderr",
     "output_type": "stream",
     "text": [
      "C:\\Users\\ekiru\\AppData\\Local\\Temp\\ipykernel_17188\\3716166174.py:4: SettingWithCopyWarning: \n",
      "A value is trying to be set on a copy of a slice from a DataFrame.\n",
      "Try using .loc[row_indexer,col_indexer] = value instead\n",
      "\n",
      "See the caveats in the documentation: https://pandas.pydata.org/pandas-docs/stable/user_guide/indexing.html#returning-a-view-versus-a-copy\n",
      "  X['servings'] = pd.to_numeric(X['servings'], errors='coerce')\n",
      "C:\\Users\\ekiru\\AppData\\Local\\Temp\\ipykernel_17188\\3716166174.py:7: FutureWarning: A value is trying to be set on a copy of a DataFrame or Series through chained assignment using an inplace method.\n",
      "The behavior will change in pandas 3.0. This inplace method will never work because the intermediate object on which we are setting values always behaves as a copy.\n",
      "\n",
      "For example, when doing 'df[col].method(value, inplace=True)', try using 'df.method({col: value}, inplace=True)' or df[col] = df[col].method(value) instead, to perform the operation inplace on the original object.\n",
      "\n",
      "\n",
      "  X[\"servings\"].fillna(median_value, inplace=True)\n",
      "C:\\Users\\ekiru\\AppData\\Local\\Temp\\ipykernel_17188\\3716166174.py:7: SettingWithCopyWarning: \n",
      "A value is trying to be set on a copy of a slice from a DataFrame\n",
      "\n",
      "See the caveats in the documentation: https://pandas.pydata.org/pandas-docs/stable/user_guide/indexing.html#returning-a-view-versus-a-copy\n",
      "  X[\"servings\"].fillna(median_value, inplace=True)\n"
     ]
    }
   ],
   "source": [
    "# df['servings'].unique()\n",
    "\n",
    "# Converting to numeric\n",
    "X['servings'] = pd.to_numeric(X['servings'], errors='coerce')\n",
    "\n",
    "median_value = X[\"servings\"].median()\n",
    "X[\"servings\"].fillna(median_value, inplace=True)"
   ]
  },
  {
   "cell_type": "code",
   "execution_count": 96,
   "id": "989af306",
   "metadata": {},
   "outputs": [],
   "source": [
    "# Categorizing features\n",
    "numeric_features = ['calories', 'carbohydrate', 'sugar', 'protein', 'servings']\n",
    "categorical_features = ['category']\n",
    "\n",
    "# Preprocessing pipelines\n",
    "numeric_transformer = StandardScaler()\n",
    "categorical_transformer = OneHotEncoder(handle_unknown='ignore')\n",
    "\n",
    "preprocessor = ColumnTransformer(\n",
    "    transformers=[\n",
    "        ('num', numeric_transformer, numeric_features),\n",
    "        ('cat', categorical_transformer, categorical_features)\n",
    "    ])\n"
   ]
  },
  {
   "cell_type": "code",
   "execution_count": 97,
   "id": "89865965",
   "metadata": {},
   "outputs": [
    {
     "name": "stdout",
     "output_type": "stream",
     "text": [
      "Train shape: (757, 6)\n",
      "Test shape: (190, 6)\n",
      "Target distribution in train set:\n",
      "high_traffic\n",
      "1    0.606341\n",
      "0    0.393659\n",
      "Name: proportion, dtype: float64\n"
     ]
    }
   ],
   "source": [
    "X_train, X_test, y_train, y_test = train_test_split(\n",
    "    X, y, test_size=0.2, random_state=42, stratify=y\n",
    ")\n",
    "\n",
    "print(\"Train shape:\", X_train.shape)\n",
    "print(\"Test shape:\", X_test.shape)\n",
    "print(\"Target distribution in train set:\")\n",
    "print(y_train.value_counts(normalize=True))"
   ]
  },
  {
   "cell_type": "markdown",
   "id": "3b1c53ea",
   "metadata": {},
   "source": [
    "The data was split using the 80/20 ratio. The training dataset had 757 observations while the testing dataset had 190 observations"
   ]
  },
  {
   "cell_type": "markdown",
   "id": "381d441b",
   "metadata": {},
   "source": [
    "### **Running a Logistic Regression Model**"
   ]
  },
  {
   "cell_type": "code",
   "execution_count": 98,
   "id": "b16b3f2b",
   "metadata": {},
   "outputs": [
    {
     "data": {
      "application/vnd.microsoft.datawrangler.viewer.v0+json": {
       "columns": [
        {
         "name": "index",
         "rawType": "object",
         "type": "string"
        },
        {
         "name": "0",
         "rawType": "int64",
         "type": "integer"
        }
       ],
       "ref": "47e49874-4a21-4ca6-bc8d-055237db827c",
       "rows": [
        [
         "calories",
         "0"
        ],
        [
         "carbohydrate",
         "0"
        ],
        [
         "sugar",
         "0"
        ],
        [
         "protein",
         "0"
        ],
        [
         "category",
         "0"
        ],
        [
         "servings",
         "0"
        ]
       ],
       "shape": {
        "columns": 1,
        "rows": 6
       }
      },
      "text/plain": [
       "calories        0\n",
       "carbohydrate    0\n",
       "sugar           0\n",
       "protein         0\n",
       "category        0\n",
       "servings        0\n",
       "dtype: int64"
      ]
     },
     "execution_count": 98,
     "metadata": {},
     "output_type": "execute_result"
    }
   ],
   "source": [
    "# Checking if there exist any missing values\n",
    "X.isnull().sum()"
   ]
  },
  {
   "cell_type": "code",
   "execution_count": 99,
   "id": "551bd53c",
   "metadata": {},
   "outputs": [],
   "source": [
    "# Creating a pipeline\n",
    "model = Pipeline(steps=[\n",
    "    ('preprocessor', preprocessor),\n",
    "    ('classifier', LogisticRegression())\n",
    "])"
   ]
  },
  {
   "cell_type": "code",
   "execution_count": 100,
   "id": "03b27bc0",
   "metadata": {},
   "outputs": [
    {
     "name": "stdout",
     "output_type": "stream",
     "text": [
      "Baseline Model Performance (Logistic Regression):\n",
      "Accuracy: 0.774\n",
      "ROC-AUC:  0.866\n",
      "\n",
      "Classification Report:\n",
      "              precision    recall  f1-score   support\n",
      "\n",
      " Low Traffic       0.69      0.79      0.73        75\n",
      "High Traffic       0.85      0.77      0.80       115\n",
      "\n",
      "    accuracy                           0.77       190\n",
      "   macro avg       0.77      0.78      0.77       190\n",
      "weighted avg       0.78      0.77      0.78       190\n",
      "\n"
     ]
    }
   ],
   "source": [
    "# Training the model\n",
    "model.fit(X_train, y_train)\n",
    "\n",
    "# Making predictions\n",
    "y_pred_lr = model.predict(X_test)\n",
    "y_proba_lr = model.predict_proba(X_test)[:, 1]\n",
    "\n",
    "# Evaluation\n",
    "print(\"Baseline Model Performance (Logistic Regression):\")\n",
    "print(f\"Accuracy: {accuracy_score(y_test, y_pred_lr):.3f}\")\n",
    "print(f\"ROC-AUC:  {roc_auc_score(y_test, y_proba_lr):.3f}\")\n",
    "print(\"\\nClassification Report:\")\n",
    "print(classification_report(y_test, y_pred_lr, target_names=['Low Traffic', 'High Traffic']))\n"
   ]
  },
  {
   "cell_type": "markdown",
   "id": "ba411d8d",
   "metadata": {},
   "source": [
    "The Logistic regression achieved an accuracy of 77.4% and an Arrea under the curve of 86.6%"
   ]
  },
  {
   "cell_type": "code",
   "execution_count": 101,
   "id": "fa4ecc5f",
   "metadata": {},
   "outputs": [
    {
     "name": "stdout",
     "output_type": "stream",
     "text": [
      "Confusion Matrix:\n",
      "[[59 16]\n",
      " [27 88]]\n"
     ]
    }
   ],
   "source": [
    "# Confusion matrix\n",
    "print(\"Confusion Matrix:\")\n",
    "print(confusion_matrix(y_test, y_pred_lr))"
   ]
  },
  {
   "cell_type": "markdown",
   "id": "37cef381",
   "metadata": {},
   "source": [
    "The Logistic regression model correctly predicted 59 observations as high traffic recipes and wrongly classified 16 as low traffic recipes. Whereas, it correctly classified 88 observations as low traffic recipe and wrongly classified 27 as being high traffic recipes."
   ]
  },
  {
   "cell_type": "markdown",
   "id": "49e8f716",
   "metadata": {},
   "source": [
    "### **Decision Tree**"
   ]
  },
  {
   "cell_type": "code",
   "execution_count": 102,
   "id": "bbf6d123",
   "metadata": {},
   "outputs": [],
   "source": [
    "from sklearn.tree import DecisionTreeClassifier"
   ]
  },
  {
   "cell_type": "code",
   "execution_count": 103,
   "id": "5373efa2",
   "metadata": {},
   "outputs": [],
   "source": [
    "# Defining pipeline\n",
    "dt_model = Pipeline(steps=[\n",
    "    ('preprocessor', preprocessor),\n",
    "    ('classifier', DecisionTreeClassifier(random_state=42))\n",
    "])\n",
    "\n",
    "# Fiting the model\n",
    "dt_model.fit(X_train, y_train)\n",
    "\n",
    "# Making predictions\n",
    "y_pred_dt = dt_model.predict(X_test)\n",
    "y_proba_dt = dt_model.predict_proba(X_test)[:, 1]\n"
   ]
  },
  {
   "cell_type": "code",
   "execution_count": 104,
   "id": "88b94a57",
   "metadata": {},
   "outputs": [
    {
     "name": "stdout",
     "output_type": "stream",
     "text": [
      "Baseline Model Performance (Decision Tree):\n",
      "Accuracy: 0.642\n",
      "ROC-AUC:  0.649\n",
      "\n",
      "Classification Report:\n",
      "              precision    recall  f1-score   support\n",
      "\n",
      " Low Traffic       0.54      0.68      0.60        75\n",
      "High Traffic       0.75      0.62      0.68       115\n",
      "\n",
      "    accuracy                           0.64       190\n",
      "   macro avg       0.64      0.65      0.64       190\n",
      "weighted avg       0.66      0.64      0.65       190\n",
      "\n"
     ]
    }
   ],
   "source": [
    "# Evaluation\n",
    "print(\"Baseline Model Performance (Decision Tree):\")\n",
    "print(f\"Accuracy: {accuracy_score(y_test, y_pred_dt):.3f}\")\n",
    "print(f\"ROC-AUC:  {roc_auc_score(y_test, y_proba_dt):.3f}\")\n",
    "print(\"\\nClassification Report:\")\n",
    "print(classification_report(y_test, y_pred_dt, target_names=['Low Traffic', 'High Traffic']))"
   ]
  },
  {
   "cell_type": "code",
   "execution_count": 105,
   "id": "c059bd35",
   "metadata": {},
   "outputs": [
    {
     "name": "stdout",
     "output_type": "stream",
     "text": [
      "Confusion Matrix:\n",
      "[[51 24]\n",
      " [44 71]]\n"
     ]
    }
   ],
   "source": [
    "# Confusion Matrix\n",
    "print(\"Confusion Matrix:\")\n",
    "print(confusion_matrix(y_test, y_pred_dt))"
   ]
  },
  {
   "cell_type": "markdown",
   "id": "af2a12b9",
   "metadata": {},
   "source": [
    "### **Random Forest model**"
   ]
  },
  {
   "cell_type": "code",
   "execution_count": 106,
   "id": "04aeb34d",
   "metadata": {},
   "outputs": [],
   "source": [
    "from sklearn.ensemble import RandomForestClassifier"
   ]
  },
  {
   "cell_type": "code",
   "execution_count": 107,
   "id": "fd9c215b",
   "metadata": {},
   "outputs": [],
   "source": [
    "# Defining pipeline\n",
    "rf_model = Pipeline(steps=[\n",
    "    ('preprocessor', preprocessor),\n",
    "    ('classifier', RandomForestClassifier(random_state=42))\n",
    "])\n",
    "\n",
    "# Training the model\n",
    "rf_model.fit(X_train, y_train)\n",
    "\n",
    "# making predictions\n",
    "y_pred_rf = rf_model.predict(X_test)\n",
    "y_proba_rf = rf_model.predict_proba(X_test)[:, 1]\n"
   ]
  },
  {
   "cell_type": "code",
   "execution_count": 108,
   "id": "4a96b7db",
   "metadata": {},
   "outputs": [
    {
     "name": "stdout",
     "output_type": "stream",
     "text": [
      "Baseline Model Performance (Random Forest):\n",
      "Accuracy: 0.711\n",
      "ROC-AUC:  0.831\n",
      "\n",
      "Classification Report:\n",
      "              precision    recall  f1-score   support\n",
      "\n",
      " Low Traffic       0.61      0.72      0.66        75\n",
      "High Traffic       0.79      0.70      0.75       115\n",
      "\n",
      "    accuracy                           0.71       190\n",
      "   macro avg       0.70      0.71      0.70       190\n",
      "weighted avg       0.72      0.71      0.71       190\n",
      "\n"
     ]
    }
   ],
   "source": [
    "\n",
    "# Evaluation\n",
    "print(\"Baseline Model Performance (Random Forest):\")\n",
    "print(f\"Accuracy: {accuracy_score(y_test, y_pred_rf):.3f}\")\n",
    "print(f\"ROC-AUC:  {roc_auc_score(y_test, y_proba_rf):.3f}\")\n",
    "print(\"\\nClassification Report:\")\n",
    "print(classification_report(y_test, y_pred_rf, target_names=['Low Traffic', 'High Traffic']))"
   ]
  },
  {
   "cell_type": "code",
   "execution_count": 109,
   "id": "ab414b94",
   "metadata": {},
   "outputs": [
    {
     "name": "stdout",
     "output_type": "stream",
     "text": [
      "Confusion Matrix:\n",
      "[[54 21]\n",
      " [34 81]]\n"
     ]
    }
   ],
   "source": [
    "# Confusion Matrix\n",
    "print(\"Confusion Matrix:\")\n",
    "print(confusion_matrix(y_test, y_pred_rf))"
   ]
  },
  {
   "cell_type": "markdown",
   "id": "b27eb747",
   "metadata": {},
   "source": [
    "# Model Performance"
   ]
  },
  {
   "cell_type": "code",
   "execution_count": 110,
   "id": "6b18122b",
   "metadata": {},
   "outputs": [
    {
     "name": "stdout",
     "output_type": "stream",
     "text": [
      "                 Model  Accuracy   ROC_AUC\n",
      "0  Logistic Regression  0.773684  0.866087\n",
      "1        Decision Tree  0.642105  0.649101\n",
      "2        Random Forest  0.710526  0.831478\n"
     ]
    }
   ],
   "source": [
    "# Comparing model performance\n",
    "model_performance = pd.DataFrame({\n",
    "    'Model': ['Logistic Regression', 'Decision Tree', 'Random Forest'],\n",
    "    'Accuracy': [\n",
    "        accuracy_score(y_test, y_pred_lr),\n",
    "        accuracy_score(y_test, y_pred_dt),\n",
    "        accuracy_score(y_test, y_pred_rf)\n",
    "    ],\n",
    "    'ROC_AUC': [\n",
    "        roc_auc_score(y_test, y_proba_lr),\n",
    "        roc_auc_score(y_test, y_proba_dt),\n",
    "        roc_auc_score(y_test, y_proba_rf)\n",
    "    ]\n",
    "})\n",
    "\n",
    "print(model_performance)\n"
   ]
  },
  {
   "cell_type": "code",
   "execution_count": 111,
   "id": "4ad09e56",
   "metadata": {},
   "outputs": [
    {
     "data": {
      "image/png": "[encoded data removed]",
      "text/plain": [
       "<Figure size 800x500 with 1 Axes>"
      ]
     },
     "metadata": {},
     "output_type": "display_data"
    }
   ],
   "source": [
    "# Plotting performance comparison\n",
    "model_performance.plot(x='Model', y=['Accuracy', 'ROC_AUC'], kind='bar', figsize=(8,5))\n",
    "plt.title(\"Model Performance Comparison\")\n",
    "plt.ylabel(\"Score\")\n",
    "plt.ylim(0, 1)\n",
    "plt.xticks(rotation=15)\n",
    "plt.legend(loc='lower right')\n",
    "plt.show()\n"
   ]
  },
  {
   "cell_type": "markdown",
   "id": "4c803c65",
   "metadata": {},
   "source": [
    "Therefore, according to the above  graph, the Logistic Regression model is the best performing model for predicting recipe popularity."
   ]
  },
  {
   "cell_type": "markdown",
   "id": "cf10f94b",
   "metadata": {},
   "source": []
  },
  {
   "cell_type": "code",
   "execution_count": 118,
   "id": "e62380d7",
   "metadata": {},
   "outputs": [
    {
     "data": {
      "image/png": "[encoded data removed]",
      "text/plain": [
       "<Figure size 1000x500 with 1 Axes>"
      ]
     },
     "metadata": {},
     "output_type": "display_data"
    }
   ],
   "source": [
    "# Extracting feature importance from the Logistic Regression model\n",
    "\n",
    "# Numeric feature names\n",
    "numeric_features = preprocessor.transformers_[0][2]\n",
    "\n",
    "# Get category feature names from the OneHotEncoder\n",
    "cat_features = preprocessor.named_transformers_['cat'].get_feature_names_out(['category'])\n",
    "\n",
    "# Combine both\n",
    "all_features = list(numeric_features) + list(cat_features)\n",
    "\n",
    "# Getting importance values\n",
    "importances = rf_model.named_steps['classifier'].feature_importances_\n",
    "\n",
    "# Creating a DataFrame\n",
    "feature_importance = pd.DataFrame({\n",
    "    'Feature': all_features,\n",
    "    'Importance': importances\n",
    "}).sort_values(by='Importance', ascending=False)\n",
    "\n",
    "# Converting importance to percentages\n",
    "feature_importance['Importance (%))'] = feature_importance['Importance'] * 100\n",
    "\n",
    "# Plot\n",
    "plt.figure(figsize=(10,5))\n",
    "plt.barh(feature_importance['Feature'][:10], feature_importance['Importance'][:10])\n",
    "plt.gca().invert_yaxis()\n",
    "plt.title(\"Top 10 Important Features Driving High Traffic Recipes\")\n",
    "plt.xlabel(\"Feature Importance\")\n",
    "plt.ylabel(\"Features\")\n",
    "\n",
    "plt.tight_layout()\n",
    "plt.show()\n"
   ]
  }
 ],
 "metadata": {
  "kernelspec": {
   "display_name": "Python 3",
   "language": "python",
   "name": "python3"
  },
  "language_info": {
   "codemirror_mode": {
    "name": "ipython",
    "version": 3
   },
   "file_extension": ".py",
   "mimetype": "text/x-python",
   "name": "python",
   "nbconvert_exporter": "python",
   "pygments_lexer": "ipython3",
   "version": "3.13.7"
  }
 },
 "nbformat": 4,
 "nbformat_minor": 5
}
